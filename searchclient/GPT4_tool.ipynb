{
 "cells": [
  {
   "cell_type": "code",
   "execution_count": null,
   "metadata": {},
   "outputs": [],
   "source": [
    "import os\n",
    "import openai\n",
    "\n",
    "import pyaudio\n",
    "import wave\n",
    "import keyboard\n",
    "import time\n",
    "\n",
    "import pyttsx3\n",
    "\n",
    "openai.api_key = os.getenv(\"OPENAI_API_KEY\")\n",
    "\n",
    "CHUNK = 1024\n",
    "FORMAT = pyaudio.paInt16\n",
    "CHANNELS = 1\n",
    "RATE = 44100"
   ]
  },
  {
   "cell_type": "code",
   "execution_count": null,
   "metadata": {},
   "outputs": [],
   "source": [
    "def start_recording():\n",
    "    audio = pyaudio.PyAudio()\n",
    "    stream = audio.open(format=FORMAT, channels=CHANNELS, rate=RATE, input=True, frames_per_buffer=CHUNK)\n",
    "    frames = []\n",
    "\n",
    "    print(\"Recording...\")\n",
    "\n",
    "    while keyboard.is_pressed('r'):\n",
    "        data = stream.read(CHUNK)\n",
    "        frames.append(data)\n",
    "\n",
    "    return audio, stream, frames"
   ]
  },
  {
   "cell_type": "code",
   "execution_count": null,
   "metadata": {},
   "outputs": [],
   "source": [
    "def stop_recording(audio, stream, frames):\n",
    "    print(\"Stopped recording.\")\n",
    "    stream.stop_stream()\n",
    "    stream.close()\n",
    "    audio.terminate()\n",
    "\n",
    "    file_path = \"tmp\\\\test.wav\"\n",
    "    wf = wave.open(file_path, 'wb')\n",
    "    wf.setnchannels(CHANNELS)\n",
    "    wf.setsampwidth(audio.get_sample_size(FORMAT))\n",
    "    wf.setframerate(RATE)\n",
    "    wf.writeframes(b''.join(frames))\n",
    "    wf.close()\n",
    "\n",
    "    print(f\"Saved audio to {file_path}\")"
   ]
  },
  {
   "cell_type": "code",
   "execution_count": null,
   "metadata": {},
   "outputs": [],
   "source": [
    "def convert_audio_to_text(audio_file):\n",
    "    transcript = openai.Audio.transcribe(\"whisper-1\", audio_file)\n",
    "    return transcript.text"
   ]
  },
  {
   "cell_type": "code",
   "execution_count": null,
   "metadata": {},
   "outputs": [],
   "source": [
    "def generate_answer(messages):\n",
    "    completion = openai.ChatCompletion.create(model=\"gpt-3.5-turbo\", messages=messages)\n",
    "    return completion.choices[0].message.content"
   ]
  },
  {
   "cell_type": "code",
   "execution_count": null,
   "metadata": {},
   "outputs": [],
   "source": [
    "def text_to_speech(text):\n",
    "    engine = pyttsx3.init()\n",
    "    engine.say(text)\n",
    "    engine.runAndWait()\n",
    "    time.sleep(1)"
   ]
  },
  {
   "cell_type": "code",
   "execution_count": null,
   "metadata": {},
   "outputs": [],
   "source": [
    "print(\"Press and hold the 'r' key to start recording. Release the key to stop recording.\")\n",
    "\n",
    "messages=[\n",
    "        {\"role\": \"user\", \"content\": \"Hello!\"},\n",
    "        {\"role\": \"assistant\", \"content\": \"Hello, my name is NAOqi!\"}]\n",
    "\n",
    "while True:\n",
    "    if keyboard.is_pressed('r'):\n",
    "        audio, stream, frames = start_recording()\n",
    "        while keyboard.is_pressed('r'):\n",
    "            time.sleep(0.1)\n",
    "        stop_recording(audio, stream, frames)\n",
    "        audio_file = open(\"tmp\\\\test.wav\", \"rb\")\n",
    "        messages.append({\"role\": \"user\", \"content\": convert_audio_to_text(audio_file)})\n",
    "        print(f\"User: {messages[-1]['content']}\\n\")\n",
    "        messages.append({\"role\": \"assistant\", \"content\": generate_answer(messages)})\n",
    "        print(f\"AI: {messages[-1]['content']}\\n\")\n",
    "        text_to_speech(messages[-1]['content'])\n",
    "    if keyboard.is_pressed('q'):\n",
    "        break"
   ]
  }
 ],
 "metadata": {
  "kernelspec": {
   "display_name": "02182",
   "language": "python",
   "name": "python3"
  },
  "language_info": {
   "codemirror_mode": {
    "name": "ipython",
    "version": 3
   },
   "file_extension": ".py",
   "mimetype": "text/x-python",
   "name": "python",
   "nbconvert_exporter": "python",
   "pygments_lexer": "ipython3",
   "version": "3.9.16"
  },
  "orig_nbformat": 4
 },
 "nbformat": 4,
 "nbformat_minor": 2
}
